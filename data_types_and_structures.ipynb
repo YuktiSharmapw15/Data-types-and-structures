{
  "nbformat": 4,
  "nbformat_minor": 0,
  "metadata": {
    "colab": {
      "provenance": []
    },
    "kernelspec": {
      "name": "python3",
      "display_name": "Python 3"
    },
    "language_info": {
      "name": "python"
    }
  },
  "cells": [
    {
      "cell_type": "markdown",
      "source": [
        "# Data types and structures\n"
      ],
      "metadata": {
        "id": "0gG2umc10735"
      }
    },
    {
      "cell_type": "markdown",
      "source": [
        "1. What are data structures, and why are they important?\n",
        "   - Data structures are just different wats of storing and organizing data so we can use it properly. they are important because without them, handling large amounts of data would be messy and slow. For example, if you want to keep items in order, you use a list; if you want unique items, you use a set.\n",
        "2. Explain the difference between mutable and immutable data types with examples.\n",
        "   - Mutable means you can change it after creating it. For example, in a list [1,2,3], you can replace 1 with 10. Immutable means it stays fixed once created, like a string \"hello\"- you cant directly change a letter inside it.\n",
        "3. What are the main differences between lists and tuples in python?\n",
        "   - The big difference is that lists can be changed (mutable), while tuples cannot (immutable). Lists use [] abd tuples use(). Tuples are also a bit faster and used when data should stay fixed.\n",
        "4. Describe how dictionaries store data.\n",
        "   - Dictionaries store data in key-value pairs. its like a real dictionary: you look up a word (key) and get its meaning (value). Example {\"name\": \"john\",\"age\": 25}.\n",
        "5. Why might you use a set instesd of a list in python?\n",
        "   - A set is useful when you dont want duplicates. For example, if you collect IDs from users, a set will automatically remove repeated ones.\n",
        "6. What is a string in python, and how is it different from a list?\n",
        "   - A string is a collection of characters like \"hello\". A list can hold different data types like [1,\"hi\",3.5]. Also, strings cannot be changed, but lists can.\n",
        "7. How do tuples ensure data integrity in python?\n",
        "   - Since tuples cant be changed, the data inside them stays safe. This makes them reliable for storing fixed things like coordinates (10, 20) or days of the week.\n",
        "8. What is a hash table, and how does it relate to dictionaries in python?\n",
        "   - A hash table is a way of storing data so it can be found quickly using a key. Dictionaries in python are built on hash tables, which is why looking up something ina dictionary is super fast.\n",
        "9. Can lists contain different data types in python?\n",
        "   - Yes, lists are flexible. you can have numbers, strings, booleans, or even another list all inside one list. Example: [1,\"hi\",True, [2,3]].\n",
        "10. Explain why strings are immutable in python.\n",
        "    - Strings are immutable because python wants them to be safe and efficient. If they could be changed, it might create confusion or errors, especially since strings are used so often in programs.\n",
        "11. What advantages do dictionaries offer over lists for certain tasks?\n",
        "    - With dictionaries, you dont need to remember the position of something-you just use the key. For example, to find a students age, students[\"Alice\"] is easier than searching through a list.\n",
        "12. Describe a scenario where using a tuple would be preferable overa list.\n",
        "    - If you are storing something that should never change, like latitude and longitude os a city (28.5, 88.2), a tupel is better because it locks the data.\n",
        "13. How do sets handle duplicates values in python?\n",
        "    - Sets automatically remove duplicates. if you add the same number multiple times, it only appears once in the set.\n",
        "14. How does the \"in\" keyword work differently for lists and dictionaries?\n",
        "    - In lists, \"in\" checks if an item exists in the list.\n",
        "      In dictionaries, \"in\" checks if a key exists, not the value.\n",
        "15. Can you modify the elements of a tuple? Explain why or why not.\n",
        "    - No, you can't. Tuples are immutables, which means once created, they are locked. you'd have to make a new tuple if you want changes.\n",
        "16. What is a nested dictionary, and give an example of its use case?\n",
        "    - A nested dictionary means a dictionary inside another dictionary. For example:\n",
        "    students = {\n",
        "      \"101\":{\"name\": \"alice\", \"age\": 20},\n",
        "      \"102\":{\"name\": \"bob\", \"age\": 22}}\n",
        "17. Describe the time complexity of accessing elements in a dictionary.\n",
        "    - It's usually O(1), meaning it takes constant time no matter how big the dictionary is. Thats why dictionaries are very fast.\n",
        "18. In what situations are lists preferred over dictionaries?\n",
        "    - Lists are better when the order matters or when you want duplicates. For example, storing the scores of players in the order they played.\n",
        "19. Why are dictionaries considered unordered, and how does that affect data retrieval?\n",
        "    - Dictionaries dont rely on positions, they rely on keys. that means you cant say \"give me the first item\"-you always access items by their key.\n",
        "20. Explain the difference between a list and a dictionary in terms of data retrieval.\n",
        "    - With a list, you get data by index(like list[0]). with a dictionary, you get data by key (like dict[\"name\"])."
      ],
      "metadata": {
        "id": "PxOatRKU1EFK"
      }
    },
    {
      "cell_type": "code",
      "source": [
        "# Write a code to create a string with your name and print it.\n",
        "\n",
        "name = \"Yukti\"\n",
        "print(name)"
      ],
      "metadata": {
        "colab": {
          "base_uri": "https://localhost:8080/"
        },
        "id": "zX_3HcF2CiID",
        "outputId": "d22307df-563f-47fc-8876-9b50dfae123e"
      },
      "execution_count": 1,
      "outputs": [
        {
          "output_type": "stream",
          "name": "stdout",
          "text": [
            "Yukti\n"
          ]
        }
      ]
    },
    {
      "cell_type": "code",
      "source": [
        "# Write a code to find the length of the string \"Hello World\".\n",
        "\n",
        "string = \"Hello World\"\n",
        "print(len(string))"
      ],
      "metadata": {
        "colab": {
          "base_uri": "https://localhost:8080/"
        },
        "id": "EqIKxQjlDMLn",
        "outputId": "ec0ee44f-7a3b-4a25-afd7-6f8caebb4957"
      },
      "execution_count": 2,
      "outputs": [
        {
          "output_type": "stream",
          "name": "stdout",
          "text": [
            "11\n"
          ]
        }
      ]
    },
    {
      "cell_type": "code",
      "source": [
        "# Write a code to slice the first 3 characters from the string \"Python Programming\".\n",
        "\n",
        "s = \"Python Programming\"\n",
        "print(s[:3])"
      ],
      "metadata": {
        "colab": {
          "base_uri": "https://localhost:8080/"
        },
        "id": "KiOQGXmRDms3",
        "outputId": "6121fe7d-2b2d-4494-eb52-ad0ea1a37bfa"
      },
      "execution_count": 3,
      "outputs": [
        {
          "output_type": "stream",
          "name": "stdout",
          "text": [
            "Pyt\n"
          ]
        }
      ]
    },
    {
      "cell_type": "code",
      "source": [
        "# Write a code to convert the string \"hello\" to uppercase.\n",
        "\n",
        "word = \"hello\"\n",
        "print(word.upper())"
      ],
      "metadata": {
        "colab": {
          "base_uri": "https://localhost:8080/"
        },
        "id": "TOcPcc8aEDM3",
        "outputId": "a2763e3c-927b-4a9d-94f7-78518c06a446"
      },
      "execution_count": 4,
      "outputs": [
        {
          "output_type": "stream",
          "name": "stdout",
          "text": [
            "HELLO\n"
          ]
        }
      ]
    },
    {
      "cell_type": "code",
      "source": [
        "# Write a code to replace the word \"apple\" with \"orange\" in the string \"I like apple\".\n",
        "\n",
        "s = \"I like apple\"\n",
        "print(s.replace(\"apple\", \"orange\"))"
      ],
      "metadata": {
        "colab": {
          "base_uri": "https://localhost:8080/"
        },
        "id": "RFmSakCTEXeg",
        "outputId": "fb20176a-7619-4abc-a94c-aa98f6dc3872"
      },
      "execution_count": 5,
      "outputs": [
        {
          "output_type": "stream",
          "name": "stdout",
          "text": [
            "I like orange\n"
          ]
        }
      ]
    },
    {
      "cell_type": "code",
      "source": [
        "# Write a code to create a list with numbers 1 to 5 and print it.\n",
        "\n",
        "list = [1,2,3,4,5]\n",
        "print(list)"
      ],
      "metadata": {
        "colab": {
          "base_uri": "https://localhost:8080/"
        },
        "id": "cmZlKBzfEyhA",
        "outputId": "dc783a77-0d26-4120-8233-4ca724c1b266"
      },
      "execution_count": 6,
      "outputs": [
        {
          "output_type": "stream",
          "name": "stdout",
          "text": [
            "[1, 2, 3, 4, 5]\n"
          ]
        }
      ]
    },
    {
      "cell_type": "code",
      "source": [
        "# Write a code to append the number 10 to the list[1,2,3,4].\n",
        "\n",
        "numbers = [1,2,3,4]\n",
        "numbers.append(10)\n",
        "print(numbers)\n",
        ""
      ],
      "metadata": {
        "colab": {
          "base_uri": "https://localhost:8080/"
        },
        "id": "E5CRqxMeFDzc",
        "outputId": "bbe3cace-9d0a-48d5-b5bb-5dcd5082ba84"
      },
      "execution_count": 7,
      "outputs": [
        {
          "output_type": "stream",
          "name": "stdout",
          "text": [
            "[1, 2, 3, 4, 10]\n"
          ]
        }
      ]
    },
    {
      "cell_type": "code",
      "source": [
        "# Write a code to remove the number 3 from the list[1,2,3,4,5]\n",
        "\n",
        "numbers = [1,2,3,4,5]\n",
        "numbers.remove(3)\n",
        "print(numbers)"
      ],
      "metadata": {
        "colab": {
          "base_uri": "https://localhost:8080/"
        },
        "id": "LC1Ru462H6UK",
        "outputId": "24fcfeac-749f-4d6b-ae13-0e782b2d6450"
      },
      "execution_count": 8,
      "outputs": [
        {
          "output_type": "stream",
          "name": "stdout",
          "text": [
            "[1, 2, 4, 5]\n"
          ]
        }
      ]
    },
    {
      "cell_type": "code",
      "source": [
        "# Write a code to access the second element in the list['a','b','c','d'].\n",
        "\n",
        "letters = ['a','b','c','d']\n",
        "print(letters[1])"
      ],
      "metadata": {
        "colab": {
          "base_uri": "https://localhost:8080/"
        },
        "id": "iudbCO-6INog",
        "outputId": "95c7005c-2e93-4e41-8834-f7a0804916c1"
      },
      "execution_count": 9,
      "outputs": [
        {
          "output_type": "stream",
          "name": "stdout",
          "text": [
            "b\n"
          ]
        }
      ]
    },
    {
      "cell_type": "code",
      "source": [
        "# Write a code to reverse the list[10,20,30,40,50].\n",
        "\n",
        "numbers = [10,20,30,40,50]\n",
        "numbers.reverse()\n",
        "print(numbers)"
      ],
      "metadata": {
        "colab": {
          "base_uri": "https://localhost:8080/"
        },
        "id": "O43jOrbkIqSn",
        "outputId": "abcf2e9a-80f5-4d1c-9c13-40f1ba539462"
      },
      "execution_count": 10,
      "outputs": [
        {
          "output_type": "stream",
          "name": "stdout",
          "text": [
            "[50, 40, 30, 20, 10]\n"
          ]
        }
      ]
    },
    {
      "cell_type": "code",
      "source": [
        "# Write a code to create a tuple with the elements 100,200,300 and print it.\n",
        "\n",
        "tuple = (100,200,300)\n",
        "print(tuple)"
      ],
      "metadata": {
        "colab": {
          "base_uri": "https://localhost:8080/"
        },
        "id": "T0QhVEYJJBh4",
        "outputId": "7733b899-cf3a-4f68-c7ed-f229bbbbe2ac"
      },
      "execution_count": 11,
      "outputs": [
        {
          "output_type": "stream",
          "name": "stdout",
          "text": [
            "(100, 200, 300)\n"
          ]
        }
      ]
    },
    {
      "cell_type": "code",
      "source": [
        "# Write a code to access the second-to-last element of the tuple ('red','green','blue','yellow').\n",
        "\n",
        "colors = ('red','green','blue','yellow')\n",
        "print(colors[-2])"
      ],
      "metadata": {
        "colab": {
          "base_uri": "https://localhost:8080/"
        },
        "id": "vGD31Li_JTla",
        "outputId": "aed131d4-0cfa-4da3-f80d-ac0b0d0c9524"
      },
      "execution_count": 12,
      "outputs": [
        {
          "output_type": "stream",
          "name": "stdout",
          "text": [
            "blue\n"
          ]
        }
      ]
    },
    {
      "cell_type": "code",
      "source": [
        "# Write a code to find the minimum numbers in the tuple (10,20,5,15).\n",
        "\n",
        "numbers = (10,20,5,15)\n",
        "print(min(numbers))"
      ],
      "metadata": {
        "colab": {
          "base_uri": "https://localhost:8080/"
        },
        "id": "dZsPC1sUJrmd",
        "outputId": "201c9ebe-053d-4de1-c910-c4cd7ca94869"
      },
      "execution_count": 13,
      "outputs": [
        {
          "output_type": "stream",
          "name": "stdout",
          "text": [
            "5\n"
          ]
        }
      ]
    },
    {
      "cell_type": "code",
      "source": [
        "# Write a code to find the index of the element \"cat\" in the tuple('dog','cat','rabbit').\n",
        "\n",
        "animals = ('dog','cat','rabbit')\n",
        "print(animals.index('cat'))"
      ],
      "metadata": {
        "colab": {
          "base_uri": "https://localhost:8080/"
        },
        "id": "Rc_uXnKUKDvX",
        "outputId": "cc8e57e4-69d9-4391-8184-b1026f0e2bc9"
      },
      "execution_count": 14,
      "outputs": [
        {
          "output_type": "stream",
          "name": "stdout",
          "text": [
            "1\n"
          ]
        }
      ]
    },
    {
      "cell_type": "code",
      "source": [
        "# Write a code to create a tuple containing three different fruits nd check if \"kiwi\" is in it.\n",
        "\n",
        "fruits = (\"apple\", \"banana\", \"orange\")\n",
        "print(\"kiwi\" in fruits)\n"
      ],
      "metadata": {
        "colab": {
          "base_uri": "https://localhost:8080/"
        },
        "id": "5oFWlKnzKdUN",
        "outputId": "65ddf292-e38c-4c6b-a754-4908971a2fbd"
      },
      "execution_count": 15,
      "outputs": [
        {
          "output_type": "stream",
          "name": "stdout",
          "text": [
            "False\n"
          ]
        }
      ]
    },
    {
      "cell_type": "code",
      "source": [
        "# Write a code to create a set with the elements 'a','b','c' and print it.\n",
        "\n",
        "letters = {'a','b','c'}\n",
        "print(letters)"
      ],
      "metadata": {
        "colab": {
          "base_uri": "https://localhost:8080/"
        },
        "id": "0Z1dYFixKrgc",
        "outputId": "f17b010b-42b9-4470-f981-c7b7b3da07a5"
      },
      "execution_count": 16,
      "outputs": [
        {
          "output_type": "stream",
          "name": "stdout",
          "text": [
            "{'a', 'c', 'b'}\n"
          ]
        }
      ]
    },
    {
      "cell_type": "code",
      "source": [
        "# Write a code to clear all thr elements from the set {1,2,3,4,5}.\n",
        "\n",
        "numbers = {1,2,3,4,5}\n",
        "numbers.clear()\n",
        "print(numbers)"
      ],
      "metadata": {
        "colab": {
          "base_uri": "https://localhost:8080/"
        },
        "id": "vDQLhE-MK6NC",
        "outputId": "73af01ea-38cf-4f0e-b9f7-9ddf59242b52"
      },
      "execution_count": 17,
      "outputs": [
        {
          "output_type": "stream",
          "name": "stdout",
          "text": [
            "set()\n"
          ]
        }
      ]
    },
    {
      "cell_type": "code",
      "source": [
        "# Write a code to remove the element 4 from the set {1,2,3,4}.\n",
        "\n",
        "numbers = {1,2,3,4}\n",
        "numbers.remove(4)\n",
        "print(numbers)"
      ],
      "metadata": {
        "colab": {
          "base_uri": "https://localhost:8080/"
        },
        "id": "8nKjy7GXLGH8",
        "outputId": "36db660e-d248-428f-8d97-6647bacb12d6"
      },
      "execution_count": 18,
      "outputs": [
        {
          "output_type": "stream",
          "name": "stdout",
          "text": [
            "{1, 2, 3}\n"
          ]
        }
      ]
    },
    {
      "cell_type": "code",
      "source": [
        "# Write a code to find the union of two sets {1,2,3} and {3,4,5}.\n",
        "\n",
        "set1 = {1,2,3}\n",
        "set2 = {3,4,5}\n",
        "print(set1.union(set2))"
      ],
      "metadata": {
        "colab": {
          "base_uri": "https://localhost:8080/"
        },
        "id": "SQX_1zkULSlk",
        "outputId": "6495b5e0-1de2-48ad-f841-2e4de9530cc4"
      },
      "execution_count": 19,
      "outputs": [
        {
          "output_type": "stream",
          "name": "stdout",
          "text": [
            "{1, 2, 3, 4, 5}\n"
          ]
        }
      ]
    },
    {
      "cell_type": "code",
      "source": [
        "# Write a code to find the intersection of two sets {1,2,3} and {2,3,4}.\n",
        "\n",
        "set1 = {1,2,3}\n",
        "set2 = {2,3,4}\n",
        "print(set1.intersection(set2))"
      ],
      "metadata": {
        "colab": {
          "base_uri": "https://localhost:8080/"
        },
        "id": "0crO88u4Lg5S",
        "outputId": "60e6b18c-ab99-4e50-f93e-d039fa92dd73"
      },
      "execution_count": 20,
      "outputs": [
        {
          "output_type": "stream",
          "name": "stdout",
          "text": [
            "{2, 3}\n"
          ]
        }
      ]
    },
    {
      "cell_type": "code",
      "source": [
        "# Write a code to create a dictionary with thr keys \"name\",\"age\", and \"city\", and print it.\n",
        "\n",
        "person = {\"name\": \"Alice\", \"age\": 25, \"city\": \"New York\"}\n",
        "print(person)"
      ],
      "metadata": {
        "colab": {
          "base_uri": "https://localhost:8080/"
        },
        "id": "xX_5IHvvLvsr",
        "outputId": "a192c912-9f29-4d9e-8703-9d409f87b86e"
      },
      "execution_count": 21,
      "outputs": [
        {
          "output_type": "stream",
          "name": "stdout",
          "text": [
            "{'name': 'Alice', 'age': 25, 'city': 'New York'}\n"
          ]
        }
      ]
    },
    {
      "cell_type": "code",
      "source": [
        "# Write a code to add a new key-value pair \"country\":\"USA\" to the dictionary {\"name\":\"john\",\"age\":25}.\n",
        "\n",
        "person = {\"name\": \"john\", \"age\": 25}\n",
        "person[\"country\"] = \"USA\"\n",
        "print(person)\n"
      ],
      "metadata": {
        "colab": {
          "base_uri": "https://localhost:8080/"
        },
        "id": "OS6gOh0aMD-H",
        "outputId": "ae82c47f-abc3-40c0-a1ad-fa78e0eb29f1"
      },
      "execution_count": 22,
      "outputs": [
        {
          "output_type": "stream",
          "name": "stdout",
          "text": [
            "{'name': 'john', 'age': 25, 'country': 'USA'}\n"
          ]
        }
      ]
    },
    {
      "cell_type": "code",
      "source": [
        "# Write a code to access the value associated with the key \"name\" in the dictionary {\"name\":\"alice\",\"age\":30}.\n",
        "\n",
        "person = {\"name\": \"alice\", \"age\": 30}\n",
        "print(person[\"name\"])"
      ],
      "metadata": {
        "colab": {
          "base_uri": "https://localhost:8080/"
        },
        "id": "heG3pPwZMbNa",
        "outputId": "1bcc3ce9-8550-44cc-cf65-4c6ea93f161f"
      },
      "execution_count": 23,
      "outputs": [
        {
          "output_type": "stream",
          "name": "stdout",
          "text": [
            "alice\n"
          ]
        }
      ]
    },
    {
      "cell_type": "code",
      "source": [
        "# Write a code to remove the key \"age\" from the dictionary {\"name\": \"bob\",\"age\":22,\"city\":\"new york\"}.\n",
        "\n",
        "person = {\"name\": \"bob\", \"age\": 22, \"city\": \"new york\"}\n",
        "del person[\"age\"]\n",
        "print(person)"
      ],
      "metadata": {
        "colab": {
          "base_uri": "https://localhost:8080/"
        },
        "id": "yxyt7cFGMuaf",
        "outputId": "6ec45419-3d01-4dd6-ca2b-056c753496fa"
      },
      "execution_count": 24,
      "outputs": [
        {
          "output_type": "stream",
          "name": "stdout",
          "text": [
            "{'name': 'bob', 'city': 'new york'}\n"
          ]
        }
      ]
    },
    {
      "cell_type": "code",
      "source": [
        "# Write a code to check if the key \"city\" exists in the dictionary {\"name\":\"alice\",\"city\":\"paris\"}.\n",
        "\n",
        "person = {\"name\": \"alice\", \"city\": \"paris\"}\n",
        "print(\"city\" in person)"
      ],
      "metadata": {
        "colab": {
          "base_uri": "https://localhost:8080/"
        },
        "id": "s3ujv97kNJ6n",
        "outputId": "5f3bee3e-c834-4474-bd23-246baea8c2d0"
      },
      "execution_count": 25,
      "outputs": [
        {
          "output_type": "stream",
          "name": "stdout",
          "text": [
            "True\n"
          ]
        }
      ]
    },
    {
      "cell_type": "code",
      "source": [
        "# Write a code to create a list, a tuple, and a dictionary, and print them all.\n",
        "\n",
        "list = [1,2,3]\n",
        "tuple = (4,5,6)\n",
        "dictionary = {\"name\": \"Alice\", \"age\": 25}\n",
        "\n",
        "print(list)\n",
        "print(tuple)\n",
        "print(dictionary)"
      ],
      "metadata": {
        "colab": {
          "base_uri": "https://localhost:8080/"
        },
        "id": "bc9yknSeNei2",
        "outputId": "e8a7ecf2-8fc9-476f-d842-b0e3eb273aa4"
      },
      "execution_count": 26,
      "outputs": [
        {
          "output_type": "stream",
          "name": "stdout",
          "text": [
            "[1, 2, 3]\n",
            "(4, 5, 6)\n",
            "{'name': 'Alice', 'age': 25}\n"
          ]
        }
      ]
    },
    {
      "cell_type": "code",
      "source": [
        "# Write a code to create a list of 5 random numbers between 1 to 100, sort it in ascending order, and print the result (replaced).\n",
        "\n",
        "import random\n",
        "numbers = [random.randint(1,100) for i in range(5)]\n",
        "numbers.sort()\n",
        "print(numbers)"
      ],
      "metadata": {
        "colab": {
          "base_uri": "https://localhost:8080/"
        },
        "id": "DcXsFFEgNplV",
        "outputId": "8844d423-1bd6-4619-9cc6-b30394b88a05"
      },
      "execution_count": 27,
      "outputs": [
        {
          "output_type": "stream",
          "name": "stdout",
          "text": [
            "[36, 63, 83, 84, 92]\n"
          ]
        }
      ]
    },
    {
      "cell_type": "code",
      "source": [
        "# Write a code to create a list with strings and print the element at the third index.\n",
        "\n",
        "strings = [\"apple\", \"banana\", \"cherry\", \"date\", \"elderberry\"]\n",
        "print(strings[3])"
      ],
      "metadata": {
        "colab": {
          "base_uri": "https://localhost:8080/"
        },
        "id": "9_Q5D7L2OXms",
        "outputId": "f89845b7-fec0-4a58-ddd0-51cb0054da60"
      },
      "execution_count": 28,
      "outputs": [
        {
          "output_type": "stream",
          "name": "stdout",
          "text": [
            "date\n"
          ]
        }
      ]
    },
    {
      "cell_type": "code",
      "source": [
        "# Write a code to combine two dictionaries into one and print the result.\n",
        "\n",
        "dict1 = {\"name\": \"Alice\", \"age\": 25}\n",
        "dict2 = {\"city\": \"New York\", \"country\": \"USA\"}\n",
        "dict1.update(dict2)\n",
        "print(dict1)"
      ],
      "metadata": {
        "colab": {
          "base_uri": "https://localhost:8080/"
        },
        "id": "JZ3YdG5fOlcE",
        "outputId": "ba7bcedd-ee48-4bee-8b0a-a974630a138b"
      },
      "execution_count": 29,
      "outputs": [
        {
          "output_type": "stream",
          "name": "stdout",
          "text": [
            "{'name': 'Alice', 'age': 25, 'city': 'New York', 'country': 'USA'}\n"
          ]
        }
      ]
    },
    {
      "cell_type": "code",
      "source": [
        "# Write a code to convert a list of strings onto a set.\n",
        "\n",
        "strings = [\"apple\", \"banana\", \"cherry\", \"date\", \"elderberry\"]\n",
        "set = set(strings)\n",
        "print(set)"
      ],
      "metadata": {
        "colab": {
          "base_uri": "https://localhost:8080/"
        },
        "id": "HS4thFVKO0FA",
        "outputId": "5d60ff19-9458-4ccb-91ce-cc181d91acbb"
      },
      "execution_count": 30,
      "outputs": [
        {
          "output_type": "stream",
          "name": "stdout",
          "text": [
            "{'banana', 'cherry', 'date', 'elderberry', 'apple'}\n"
          ]
        }
      ]
    }
  ]
}